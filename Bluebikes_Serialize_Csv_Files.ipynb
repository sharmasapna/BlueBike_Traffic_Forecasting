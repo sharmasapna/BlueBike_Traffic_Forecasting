{
  "nbformat": 4,
  "nbformat_minor": 0,
  "metadata": {
    "colab": {
      "name": "Bluebikes_Serialize_Csv_Files.ipynb",
      "provenance": [],
      "collapsed_sections": []
    },
    "kernelspec": {
      "name": "python3",
      "display_name": "Python 3"
    },
    "language_info": {
      "name": "python"
    }
  },
  "cells": [
    {
      "cell_type": "markdown",
      "metadata": {
        "id": "XKdU-ny_0dn3"
      },
      "source": [
        "This notebook contains code to serialize the downloaded monthly files for trips from the website for Bluebike demand forecasting.\n",
        "\n",
        "Monthly zip files were downloaded from the [Bluebike website](https://www.bluebikes.com/system-data).\n",
        "\n",
        "Csv files were extracted from the zip files and stored in a folder.These were then combined into a file using the below code.<br>\n",
        "Relevant columns were kept, deleting the rest.<br>\n",
        "The starttime and endtime datatype was converted to datetime objects<br>\n",
        "The combined file was then pickled for sharing and using again in future.<br>\n",
        "\n"
      ]
    },
    {
      "cell_type": "code",
      "metadata": {
        "colab": {
          "base_uri": "https://localhost:8080/"
        },
        "id": "aB76ZffezVLl",
        "outputId": "56e507e3-4636-4106-930d-09bdccde72bf"
      },
      "source": [
        "from google.colab import drive\n",
        "drive.mount('/content/drive',force_remount = True)"
      ],
      "execution_count": 30,
      "outputs": [
        {
          "output_type": "stream",
          "name": "stdout",
          "text": [
            "Mounted at /content/drive\n"
          ]
        }
      ]
    },
    {
      "cell_type": "code",
      "metadata": {
        "id": "i-UgJpHX12Oh"
      },
      "source": [
        "import pandas as pd\n",
        "import os\n",
        "import sys"
      ],
      "execution_count": 68,
      "outputs": []
    },
    {
      "cell_type": "code",
      "metadata": {
        "id": "IWr9fPzw2RNq"
      },
      "source": [
        "# path to the folder containing monthly files\n",
        "path = '/content/drive/MyDrive/blue_bikes_sales_prediction/data/monthly_data_for_trips'\n",
        "all_files = [file for file in os.listdir(path) if file.endswith(\".csv\")]\n",
        "all_files = sorted( all_files)\n",
        "combined_csv = pd.concat( [ pd.read_csv(f'{path}/{f}') for f in all_files ] )\n"
      ],
      "execution_count": 69,
      "outputs": []
    },
    {
      "cell_type": "code",
      "metadata": {
        "colab": {
          "base_uri": "https://localhost:8080/",
          "height": 370
        },
        "id": "BBuwnuJAD78Y",
        "outputId": "6e3482f9-a1f1-458d-eaaa-6438c2d6100b"
      },
      "source": [
        "combined_csv.head(3)"
      ],
      "execution_count": 70,
      "outputs": [
        {
          "output_type": "execute_result",
          "data": {
            "text/html": [
              "<div>\n",
              "<style scoped>\n",
              "    .dataframe tbody tr th:only-of-type {\n",
              "        vertical-align: middle;\n",
              "    }\n",
              "\n",
              "    .dataframe tbody tr th {\n",
              "        vertical-align: top;\n",
              "    }\n",
              "\n",
              "    .dataframe thead th {\n",
              "        text-align: right;\n",
              "    }\n",
              "</style>\n",
              "<table border=\"1\" class=\"dataframe\">\n",
              "  <thead>\n",
              "    <tr style=\"text-align: right;\">\n",
              "      <th></th>\n",
              "      <th>tripduration</th>\n",
              "      <th>starttime</th>\n",
              "      <th>stoptime</th>\n",
              "      <th>start station id</th>\n",
              "      <th>start station name</th>\n",
              "      <th>start station latitude</th>\n",
              "      <th>start station longitude</th>\n",
              "      <th>end station id</th>\n",
              "      <th>end station name</th>\n",
              "      <th>end station latitude</th>\n",
              "      <th>end station longitude</th>\n",
              "      <th>bikeid</th>\n",
              "      <th>usertype</th>\n",
              "      <th>postal code</th>\n",
              "    </tr>\n",
              "  </thead>\n",
              "  <tbody>\n",
              "    <tr>\n",
              "      <th>0</th>\n",
              "      <td>609</td>\n",
              "      <td>2021-05-01 00:00:01.0450</td>\n",
              "      <td>2021-05-01 00:10:10.7300</td>\n",
              "      <td>66</td>\n",
              "      <td>Commonwealth Ave at Griggs St</td>\n",
              "      <td>42.349225</td>\n",
              "      <td>-71.132753</td>\n",
              "      <td>400</td>\n",
              "      <td>Lansdowne T Stop</td>\n",
              "      <td>42.347345</td>\n",
              "      <td>-71.100168</td>\n",
              "      <td>4885</td>\n",
              "      <td>Subscriber</td>\n",
              "      <td>02134</td>\n",
              "    </tr>\n",
              "    <tr>\n",
              "      <th>1</th>\n",
              "      <td>632</td>\n",
              "      <td>2021-05-01 00:00:13.0880</td>\n",
              "      <td>2021-05-01 00:10:45.9060</td>\n",
              "      <td>409</td>\n",
              "      <td>Elm St at White St</td>\n",
              "      <td>42.389524</td>\n",
              "      <td>-71.116941</td>\n",
              "      <td>104</td>\n",
              "      <td>Harvard University Radcliffe Quadrangle at She...</td>\n",
              "      <td>42.380287</td>\n",
              "      <td>-71.125107</td>\n",
              "      <td>3844</td>\n",
              "      <td>Subscriber</td>\n",
              "      <td>02144</td>\n",
              "    </tr>\n",
              "    <tr>\n",
              "      <th>2</th>\n",
              "      <td>187</td>\n",
              "      <td>2021-05-01 00:00:20.0430</td>\n",
              "      <td>2021-05-01 00:03:27.7480</td>\n",
              "      <td>75</td>\n",
              "      <td>Lafayette Square at Mass Ave / Main St / Colum...</td>\n",
              "      <td>42.363465</td>\n",
              "      <td>-71.100573</td>\n",
              "      <td>178</td>\n",
              "      <td>MIT Pacific St at Purrington St</td>\n",
              "      <td>42.359573</td>\n",
              "      <td>-71.101295</td>\n",
              "      <td>6907</td>\n",
              "      <td>Subscriber</td>\n",
              "      <td>02139</td>\n",
              "    </tr>\n",
              "  </tbody>\n",
              "</table>\n",
              "</div>"
            ],
            "text/plain": [
              "   tripduration                 starttime  ...    usertype  postal code\n",
              "0           609  2021-05-01 00:00:01.0450  ...  Subscriber        02134\n",
              "1           632  2021-05-01 00:00:13.0880  ...  Subscriber        02144\n",
              "2           187  2021-05-01 00:00:20.0430  ...  Subscriber        02139\n",
              "\n",
              "[3 rows x 14 columns]"
            ]
          },
          "metadata": {},
          "execution_count": 70
        }
      ]
    },
    {
      "cell_type": "code",
      "metadata": {
        "colab": {
          "base_uri": "https://localhost:8080/"
        },
        "id": "Eq_jbtL6D8Ax",
        "outputId": "e911c6bd-1f9a-4308-9a3d-22ba28948c1b"
      },
      "source": [
        "combined_csv.info()"
      ],
      "execution_count": 71,
      "outputs": [
        {
          "output_type": "stream",
          "name": "stdout",
          "text": [
            "<class 'pandas.core.frame.DataFrame'>\n",
            "Int64Index: 582862 entries, 0 to 311968\n",
            "Data columns (total 14 columns):\n",
            " #   Column                   Non-Null Count   Dtype  \n",
            "---  ------                   --------------   -----  \n",
            " 0   tripduration             582862 non-null  int64  \n",
            " 1   starttime                582862 non-null  object \n",
            " 2   stoptime                 582862 non-null  object \n",
            " 3   start station id         582862 non-null  int64  \n",
            " 4   start station name       582862 non-null  object \n",
            " 5   start station latitude   582862 non-null  float64\n",
            " 6   start station longitude  582862 non-null  float64\n",
            " 7   end station id           582862 non-null  int64  \n",
            " 8   end station name         582862 non-null  object \n",
            " 9   end station latitude     582862 non-null  float64\n",
            " 10  end station longitude    582862 non-null  float64\n",
            " 11  bikeid                   582862 non-null  int64  \n",
            " 12  usertype                 582862 non-null  object \n",
            " 13  postal code              536434 non-null  object \n",
            "dtypes: float64(4), int64(4), object(6)\n",
            "memory usage: 66.7+ MB\n"
          ]
        }
      ]
    },
    {
      "cell_type": "code",
      "metadata": {
        "id": "1KYvFegBD8Cd"
      },
      "source": [
        "## deleting the postal address\n",
        "combined_csv.drop(['postal code'], inplace=True, axis= 1)"
      ],
      "execution_count": 72,
      "outputs": []
    },
    {
      "cell_type": "code",
      "metadata": {
        "colab": {
          "base_uri": "https://localhost:8080/"
        },
        "id": "W7ZeHSFV8SpL",
        "outputId": "a587ccff-3ebd-48f2-cc60-40967c65302f"
      },
      "source": [
        "# convertinting starttime and stoptime to datetime objects\n",
        "combined_csv['starttime'] = pd.to_datetime(combined_csv['starttime'])\n",
        "combined_csv['stoptime'] = pd.to_datetime(combined_csv['stoptime'])\n",
        "combined_csv.info()"
      ],
      "execution_count": 73,
      "outputs": [
        {
          "output_type": "stream",
          "name": "stdout",
          "text": [
            "<class 'pandas.core.frame.DataFrame'>\n",
            "Int64Index: 582862 entries, 0 to 311968\n",
            "Data columns (total 13 columns):\n",
            " #   Column                   Non-Null Count   Dtype         \n",
            "---  ------                   --------------   -----         \n",
            " 0   tripduration             582862 non-null  int64         \n",
            " 1   starttime                582862 non-null  datetime64[ns]\n",
            " 2   stoptime                 582862 non-null  datetime64[ns]\n",
            " 3   start station id         582862 non-null  int64         \n",
            " 4   start station name       582862 non-null  object        \n",
            " 5   start station latitude   582862 non-null  float64       \n",
            " 6   start station longitude  582862 non-null  float64       \n",
            " 7   end station id           582862 non-null  int64         \n",
            " 8   end station name         582862 non-null  object        \n",
            " 9   end station latitude     582862 non-null  float64       \n",
            " 10  end station longitude    582862 non-null  float64       \n",
            " 11  bikeid                   582862 non-null  int64         \n",
            " 12  usertype                 582862 non-null  object        \n",
            "dtypes: datetime64[ns](2), float64(4), int64(4), object(3)\n",
            "memory usage: 62.3+ MB\n"
          ]
        }
      ]
    },
    {
      "cell_type": "code",
      "metadata": {
        "id": "T-tNtTqB4Q0d"
      },
      "source": [
        "file_name = 'all_data.pkl'\n",
        "pkl_path = f'{path}/{file_name}'\n",
        "combined_csv.to_pickle(pkl_path)"
      ],
      "execution_count": 74,
      "outputs": []
    },
    {
      "cell_type": "code",
      "metadata": {
        "id": "QQw23yQ85q9x",
        "colab": {
          "base_uri": "https://localhost:8080/",
          "height": 318
        },
        "outputId": "400ecc17-bea9-4cdd-91b1-71f623d13f4a"
      },
      "source": [
        "test = pd.read_pickle(pkl_path)\n",
        "test.tail(3)"
      ],
      "execution_count": 75,
      "outputs": [
        {
          "output_type": "execute_result",
          "data": {
            "text/html": [
              "<div>\n",
              "<style scoped>\n",
              "    .dataframe tbody tr th:only-of-type {\n",
              "        vertical-align: middle;\n",
              "    }\n",
              "\n",
              "    .dataframe tbody tr th {\n",
              "        vertical-align: top;\n",
              "    }\n",
              "\n",
              "    .dataframe thead th {\n",
              "        text-align: right;\n",
              "    }\n",
              "</style>\n",
              "<table border=\"1\" class=\"dataframe\">\n",
              "  <thead>\n",
              "    <tr style=\"text-align: right;\">\n",
              "      <th></th>\n",
              "      <th>tripduration</th>\n",
              "      <th>starttime</th>\n",
              "      <th>stoptime</th>\n",
              "      <th>start station id</th>\n",
              "      <th>start station name</th>\n",
              "      <th>start station latitude</th>\n",
              "      <th>start station longitude</th>\n",
              "      <th>end station id</th>\n",
              "      <th>end station name</th>\n",
              "      <th>end station latitude</th>\n",
              "      <th>end station longitude</th>\n",
              "      <th>bikeid</th>\n",
              "      <th>usertype</th>\n",
              "    </tr>\n",
              "  </thead>\n",
              "  <tbody>\n",
              "    <tr>\n",
              "      <th>311966</th>\n",
              "      <td>1231</td>\n",
              "      <td>2021-06-30 23:59:43.219</td>\n",
              "      <td>2021-07-01 00:20:14.820</td>\n",
              "      <td>67</td>\n",
              "      <td>MIT at Mass Ave / Amherst St</td>\n",
              "      <td>42.358100</td>\n",
              "      <td>-71.093198</td>\n",
              "      <td>356</td>\n",
              "      <td>Charlestown Navy Yard</td>\n",
              "      <td>42.374125</td>\n",
              "      <td>-71.054812</td>\n",
              "      <td>2824</td>\n",
              "      <td>Subscriber</td>\n",
              "    </tr>\n",
              "    <tr>\n",
              "      <th>311967</th>\n",
              "      <td>738</td>\n",
              "      <td>2021-06-30 23:59:56.106</td>\n",
              "      <td>2021-07-01 00:12:14.641</td>\n",
              "      <td>5</td>\n",
              "      <td>Northeastern University - North Parking Lot</td>\n",
              "      <td>42.341814</td>\n",
              "      <td>-71.090179</td>\n",
              "      <td>52</td>\n",
              "      <td>Newbury St at Hereford St</td>\n",
              "      <td>42.348717</td>\n",
              "      <td>-71.085954</td>\n",
              "      <td>2512</td>\n",
              "      <td>Subscriber</td>\n",
              "    </tr>\n",
              "    <tr>\n",
              "      <th>311968</th>\n",
              "      <td>515</td>\n",
              "      <td>2021-06-30 23:59:58.556</td>\n",
              "      <td>2021-07-01 00:08:34.131</td>\n",
              "      <td>271</td>\n",
              "      <td>Ashmont T Stop</td>\n",
              "      <td>42.285694</td>\n",
              "      <td>-71.064139</td>\n",
              "      <td>260</td>\n",
              "      <td>Fields Corner T Stop</td>\n",
              "      <td>42.300664</td>\n",
              "      <td>-71.060295</td>\n",
              "      <td>3890</td>\n",
              "      <td>Subscriber</td>\n",
              "    </tr>\n",
              "  </tbody>\n",
              "</table>\n",
              "</div>"
            ],
            "text/plain": [
              "        tripduration               starttime  ... bikeid    usertype\n",
              "311966          1231 2021-06-30 23:59:43.219  ...   2824  Subscriber\n",
              "311967           738 2021-06-30 23:59:56.106  ...   2512  Subscriber\n",
              "311968           515 2021-06-30 23:59:58.556  ...   3890  Subscriber\n",
              "\n",
              "[3 rows x 13 columns]"
            ]
          },
          "metadata": {},
          "execution_count": 75
        }
      ]
    },
    {
      "cell_type": "code",
      "metadata": {
        "colab": {
          "base_uri": "https://localhost:8080/"
        },
        "id": "yFyOYGSFAjGt",
        "outputId": "ab730b80-e3d3-46c4-9ba0-00a8cffde48d"
      },
      "source": [
        "test.info()"
      ],
      "execution_count": 76,
      "outputs": [
        {
          "output_type": "stream",
          "name": "stdout",
          "text": [
            "<class 'pandas.core.frame.DataFrame'>\n",
            "Int64Index: 582862 entries, 0 to 311968\n",
            "Data columns (total 13 columns):\n",
            " #   Column                   Non-Null Count   Dtype         \n",
            "---  ------                   --------------   -----         \n",
            " 0   tripduration             582862 non-null  int64         \n",
            " 1   starttime                582862 non-null  datetime64[ns]\n",
            " 2   stoptime                 582862 non-null  datetime64[ns]\n",
            " 3   start station id         582862 non-null  int64         \n",
            " 4   start station name       582862 non-null  object        \n",
            " 5   start station latitude   582862 non-null  float64       \n",
            " 6   start station longitude  582862 non-null  float64       \n",
            " 7   end station id           582862 non-null  int64         \n",
            " 8   end station name         582862 non-null  object        \n",
            " 9   end station latitude     582862 non-null  float64       \n",
            " 10  end station longitude    582862 non-null  float64       \n",
            " 11  bikeid                   582862 non-null  int64         \n",
            " 12  usertype                 582862 non-null  object        \n",
            "dtypes: datetime64[ns](2), float64(4), int64(4), object(3)\n",
            "memory usage: 62.3+ MB\n"
          ]
        }
      ]
    }
  ]
}